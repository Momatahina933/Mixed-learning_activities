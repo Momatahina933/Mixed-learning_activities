{
 "cells": [
  {
   "cell_type": "markdown",
   "id": "3899907f",
   "metadata": {},
   "source": [
    "# Input() and print() example"
   ]
  },
  {
   "cell_type": "markdown",
   "id": "7e4f002a",
   "metadata": {},
   "source": [
    "# Getting a string "
   ]
  },
  {
   "cell_type": "code",
   "execution_count": 1,
   "id": "f7074ed6",
   "metadata": {},
   "outputs": [
    {
     "name": "stdout",
     "output_type": "stream",
     "text": [
      "Enter a word any : chaiti\n"
     ]
    }
   ],
   "source": [
    "my_word=str((input(\"Enter a word any : \")))"
   ]
  },
  {
   "cell_type": "code",
   "execution_count": 2,
   "id": "98c198a2",
   "metadata": {},
   "outputs": [
    {
     "name": "stdout",
     "output_type": "stream",
     "text": [
      "chaiti\n"
     ]
    }
   ],
   "source": [
    "print(my_word)"
   ]
  },
  {
   "cell_type": "markdown",
   "id": "b79c2c91",
   "metadata": {},
   "source": [
    "# Getting number input"
   ]
  },
  {
   "cell_type": "code",
   "execution_count": 3,
   "id": "2f642f67",
   "metadata": {},
   "outputs": [
    {
     "name": "stdout",
     "output_type": "stream",
     "text": [
      "Enter a number as you like: 9\n"
     ]
    }
   ],
   "source": [
    "num = int((input(\"Enter a number as you like: \")))"
   ]
  },
  {
   "cell_type": "code",
   "execution_count": 4,
   "id": "0805cd82",
   "metadata": {},
   "outputs": [
    {
     "name": "stdout",
     "output_type": "stream",
     "text": [
      "9\n"
     ]
    }
   ],
   "source": [
    "print(num)"
   ]
  },
  {
   "cell_type": "markdown",
   "id": "ceeb7e9f",
   "metadata": {},
   "source": [
    "# Getting a float input"
   ]
  },
  {
   "cell_type": "code",
   "execution_count": 5,
   "id": "a0ae472e",
   "metadata": {},
   "outputs": [
    {
     "name": "stdout",
     "output_type": "stream",
     "text": [
      "Enter a float number : 3.14\n"
     ]
    }
   ],
   "source": [
    "my_Pi = float((input(\"Enter a float number : \")))"
   ]
  },
  {
   "cell_type": "code",
   "execution_count": 6,
   "id": "a1938aa5",
   "metadata": {},
   "outputs": [
    {
     "name": "stdout",
     "output_type": "stream",
     "text": [
      "3.14\n"
     ]
    }
   ],
   "source": [
    "print(my_Pi)"
   ]
  },
  {
   "cell_type": "markdown",
   "id": "d8ceca33",
   "metadata": {},
   "source": [
    "# Loops"
   ]
  },
  {
   "cell_type": "code",
   "execution_count": 7,
   "id": "cf531631",
   "metadata": {},
   "outputs": [
    {
     "name": "stdout",
     "output_type": "stream",
     "text": [
      "0\n",
      "1\n",
      "2\n",
      "3\n",
      "4\n"
     ]
    }
   ],
   "source": [
    "for i in range(5):\n",
    "    print(i)"
   ]
  },
  {
   "cell_type": "markdown",
   "id": "7f81253f",
   "metadata": {},
   "source": [
    "# with start=1 and step=2 value "
   ]
  },
  {
   "cell_type": "code",
   "execution_count": 8,
   "id": "288fa685",
   "metadata": {},
   "outputs": [
    {
     "name": "stdout",
     "output_type": "stream",
     "text": [
      "1\n",
      "3\n",
      "5\n",
      "7\n",
      "9\n"
     ]
    }
   ],
   "source": [
    "for i in range(1,10,2):\n",
    "    print(i)"
   ]
  },
  {
   "cell_type": "markdown",
   "id": "6ea09fc3",
   "metadata": {},
   "source": [
    "# My Work here "
   ]
  },
  {
   "cell_type": "markdown",
   "id": "900db5d8",
   "metadata": {},
   "source": [
    "# Print numbers from 0-10 using a for loop"
   ]
  },
  {
   "cell_type": "code",
   "execution_count": 9,
   "id": "993d16a4",
   "metadata": {},
   "outputs": [
    {
     "name": "stdout",
     "output_type": "stream",
     "text": [
      "0\n",
      "1\n",
      "2\n",
      "3\n",
      "4\n",
      "5\n",
      "6\n",
      "7\n",
      "8\n",
      "9\n",
      "10\n"
     ]
    }
   ],
   "source": [
    "for i in range(11):\n",
    "    print(i)"
   ]
  },
  {
   "cell_type": "code",
   "execution_count": 10,
   "id": "e41c104f",
   "metadata": {},
   "outputs": [
    {
     "name": "stdout",
     "output_type": "stream",
     "text": [
      "1\n",
      "2\n",
      "3\n",
      "4\n",
      "5\n",
      "6\n",
      "7\n",
      "8\n",
      "9\n",
      "10\n",
      "11\n"
     ]
    }
   ],
   "source": [
    "for i in range(11):\n",
    "    print(i+1)"
   ]
  },
  {
   "cell_type": "markdown",
   "id": "c44a6c61",
   "metadata": {},
   "source": [
    "# Print only the even values between 0-10"
   ]
  },
  {
   "cell_type": "code",
   "execution_count": 11,
   "id": "041591ef",
   "metadata": {},
   "outputs": [
    {
     "name": "stdout",
     "output_type": "stream",
     "text": [
      "0\n",
      "2\n",
      "4\n",
      "6\n",
      "8\n",
      "10\n"
     ]
    }
   ],
   "source": [
    "for i in range(11):\n",
    "    if i % 2 == 0:\n",
    "        print(i)"
   ]
  },
  {
   "cell_type": "markdown",
   "id": "d36749f0",
   "metadata": {},
   "source": [
    "# Construct a for loop using a range specified by user input"
   ]
  },
  {
   "cell_type": "code",
   "execution_count": 13,
   "id": "87c477f3",
   "metadata": {},
   "outputs": [
    {
     "name": "stdout",
     "output_type": "stream",
     "text": [
      "Enter the range limit: 8\n",
      "0\n",
      "1\n",
      "2\n",
      "3\n",
      "4\n",
      "5\n",
      "6\n",
      "7\n",
      "8\n"
     ]
    }
   ],
   "source": [
    "user_input = int(input(\"Enter the range limit: \"))\n",
    "for i in range(user_input+1):\n",
    "    print(i)"
   ]
  },
  {
   "cell_type": "markdown",
   "id": "5442b43d",
   "metadata": {},
   "source": [
    "# Construct a for loop by taking start, end, and step inputs from the user"
   ]
  },
  {
   "cell_type": "code",
   "execution_count": 14,
   "id": "66d70afc",
   "metadata": {},
   "outputs": [
    {
     "name": "stdout",
     "output_type": "stream",
     "text": [
      "Enter the start value: 1\n",
      "Enter the end value: 8\n",
      "Enter the step value: 2\n",
      "1\n",
      "3\n",
      "5\n",
      "7\n"
     ]
    }
   ],
   "source": [
    "start = int(input(\"Enter the start value: \"))\n",
    "end = int(input(\"Enter the end value: \"))\n",
    "step = int(input(\"Enter the step value: \"))\n",
    "\n",
    "for i in range(start, end, step):\n",
    "    print(i)"
   ]
  },
  {
   "cell_type": "markdown",
   "id": "fa2bb4f8",
   "metadata": {},
   "source": [
    "# While loop"
   ]
  },
  {
   "cell_type": "code",
   "execution_count": 15,
   "id": "7d0841a4",
   "metadata": {},
   "outputs": [
    {
     "name": "stdout",
     "output_type": "stream",
     "text": [
      "1\n",
      "2\n",
      "3\n"
     ]
    }
   ],
   "source": [
    "num=1\n",
    "#define a while loop\n",
    "while(num<4):\n",
    "    print(num)\n",
    "    num = num+1"
   ]
  },
  {
   "cell_type": "markdown",
   "id": "f9f69c6e",
   "metadata": {},
   "source": [
    "# My turn\n"
   ]
  },
  {
   "cell_type": "markdown",
   "id": "d11b75fb",
   "metadata": {},
   "source": [
    "# Print numbers less than or equal to 17 using a while loop"
   ]
  },
  {
   "cell_type": "code",
   "execution_count": 16,
   "id": "98ad873f",
   "metadata": {},
   "outputs": [
    {
     "name": "stdout",
     "output_type": "stream",
     "text": [
      "0\n",
      "1\n",
      "2\n",
      "3\n",
      "4\n",
      "5\n",
      "6\n",
      "7\n",
      "8\n",
      "9\n",
      "10\n",
      "11\n",
      "12\n",
      "13\n",
      "14\n",
      "15\n",
      "16\n",
      "17\n"
     ]
    }
   ],
   "source": [
    "num = 0\n",
    "while num <= 17:\n",
    "    print(num)\n",
    "    num += 1"
   ]
  },
  {
   "cell_type": "markdown",
   "id": "c3355004",
   "metadata": {},
   "source": [
    "# Print only the odd values less than or equal to 28 using a while loop"
   ]
  },
  {
   "cell_type": "code",
   "execution_count": 17,
   "id": "831743d5",
   "metadata": {},
   "outputs": [
    {
     "name": "stdout",
     "output_type": "stream",
     "text": [
      "1\n",
      "3\n",
      "5\n",
      "7\n",
      "9\n",
      "11\n",
      "13\n",
      "15\n",
      "17\n",
      "19\n",
      "21\n",
      "23\n",
      "25\n",
      "27\n"
     ]
    }
   ],
   "source": [
    "num = 1\n",
    "while num <= 28:\n",
    "    if num % 2 != 0:\n",
    "        print(num)\n",
    "    num += 1"
   ]
  },
  {
   "cell_type": "markdown",
   "id": "eb686db4",
   "metadata": {},
   "source": [
    "# Construct a while loop using user input as the conditional"
   ]
  },
  {
   "cell_type": "code",
   "execution_count": 18,
   "id": "881f971d",
   "metadata": {},
   "outputs": [
    {
     "name": "stdout",
     "output_type": "stream",
     "text": [
      "Enter a number: 11\n",
      "0\n",
      "1\n",
      "2\n",
      "3\n",
      "4\n",
      "5\n",
      "6\n",
      "7\n",
      "8\n",
      "9\n",
      "10\n",
      "11\n"
     ]
    }
   ],
   "source": [
    "user_input = int(input(\"Enter a number: \"))\n",
    "count = 0\n",
    "while count <= user_input:\n",
    "    print(count)\n",
    "    count += 1\n",
    "    if count > 100:  # Adding a safeguard to prevent an infinite loop\n",
    "        print(\"Loop reached 100 iterations, exiting.\")\n",
    "        break\n"
   ]
  },
  {
   "cell_type": "markdown",
   "id": "ae68d339",
   "metadata": {},
   "source": [
    "# Break use "
   ]
  },
  {
   "cell_type": "markdown",
   "id": "73779bbb",
   "metadata": {},
   "source": [
    "# Break inside afor loop"
   ]
  },
  {
   "cell_type": "code",
   "execution_count": 19,
   "id": "a91342a4",
   "metadata": {},
   "outputs": [
    {
     "name": "stdout",
     "output_type": "stream",
     "text": [
      "0\n",
      "1\n",
      "2\n",
      "the number is 2  are leaving the for loop\n"
     ]
    }
   ],
   "source": [
    "for i in range(5):\n",
    "    print(i)\n",
    "    if i==2:\n",
    "        print(\"the number is %d  are leaving the for loop\" %i)\n",
    "        break"
   ]
  },
  {
   "cell_type": "markdown",
   "id": "f759a401",
   "metadata": {},
   "source": [
    "# Break inside a while loop"
   ]
  },
  {
   "cell_type": "code",
   "execution_count": 20,
   "id": "b9ed7845",
   "metadata": {},
   "outputs": [
    {
     "name": "stdout",
     "output_type": "stream",
     "text": [
      "0\n",
      "1\n",
      "2\n",
      "you are leaving the while loop\n"
     ]
    }
   ],
   "source": [
    "num=0\n",
    "while(num<=100):\n",
    "    print(num)\n",
    "    if num==2:\n",
    "        print(\"you are leaving the while loop\")\n",
    "        break\n",
    "    num+=1"
   ]
  },
  {
   "cell_type": "markdown",
   "id": "9275b893",
   "metadata": {},
   "source": [
    "# My Turn"
   ]
  },
  {
   "cell_type": "markdown",
   "id": "5fb30813",
   "metadata": {},
   "source": [
    "# Print numbers between 0 and 15 using a while loop that stops at 10:"
   ]
  },
  {
   "cell_type": "code",
   "execution_count": 21,
   "id": "375b223a",
   "metadata": {},
   "outputs": [
    {
     "name": "stdout",
     "output_type": "stream",
     "text": [
      "0\n",
      "1\n",
      "2\n",
      "3\n",
      "4\n",
      "5\n",
      "6\n",
      "7\n",
      "8\n",
      "9\n"
     ]
    }
   ],
   "source": [
    "num = 0\n",
    "while num <= 15:\n",
    "    if num == 10:\n",
    "        break\n",
    "    print(num)\n",
    "    num += 1"
   ]
  },
  {
   "cell_type": "markdown",
   "id": "312d61a3",
   "metadata": {},
   "source": [
    "# Print odd values between 0 and 18 using a while loop that stops at 12"
   ]
  },
  {
   "cell_type": "code",
   "execution_count": 22,
   "id": "3bf2ede8",
   "metadata": {},
   "outputs": [
    {
     "name": "stdout",
     "output_type": "stream",
     "text": [
      "1\n",
      "3\n",
      "5\n",
      "7\n",
      "9\n",
      "11\n",
      "13\n",
      "15\n",
      "17\n"
     ]
    }
   ],
   "source": [
    "num = 1\n",
    "while num <= 18:\n",
    "    if num == 12:\n",
    "        break\n",
    "    print(num)\n",
    "    num += 2"
   ]
  },
  {
   "cell_type": "markdown",
   "id": "cd6d90ad",
   "metadata": {},
   "source": [
    "# Construct a while loop using user input as a conditional that stops at half the range specified"
   ]
  },
  {
   "cell_type": "code",
   "execution_count": 25,
   "id": "0413ce0c",
   "metadata": {},
   "outputs": [
    {
     "name": "stdout",
     "output_type": "stream",
     "text": [
      "Enter a number for the range: 12\n",
      "0\n",
      "1\n",
      "2\n",
      "3\n",
      "4\n",
      "5\n"
     ]
    }
   ],
   "source": [
    "user_input = int(input(\"Enter a number for the range: \"))\n",
    "half_range = user_input // 2 if user_input % 2 == 0 else (user_input // 2) + 1\n",
    "count = 0\n",
    "\n",
    "while count <= user_input:\n",
    "    if count == half_range:\n",
    "        break\n",
    "    print(count)\n",
    "    count += 1"
   ]
  },
  {
   "cell_type": "markdown",
   "id": "48e7304d",
   "metadata": {},
   "source": [
    "# Using Continue\n"
   ]
  },
  {
   "cell_type": "markdown",
   "id": "e943cf97",
   "metadata": {},
   "source": [
    "# using while loop "
   ]
  },
  {
   "cell_type": "code",
   "execution_count": 26,
   "id": "8342a1e1",
   "metadata": {},
   "outputs": [
    {
     "name": "stdout",
     "output_type": "stream",
     "text": [
      "2\n",
      "4\n",
      "6\n",
      "8\n",
      "10\n"
     ]
    }
   ],
   "source": [
    "# Print numbers less than or equal to 9 except those not divisible by 2\n",
    "count = 0\n",
    "while count <= 9:\n",
    "    count += 1\n",
    "    if count % 2 != 0:\n",
    "        continue\n",
    "    print(count)"
   ]
  },
  {
   "cell_type": "markdown",
   "id": "7d0dc763",
   "metadata": {},
   "source": [
    "# the second task"
   ]
  },
  {
   "cell_type": "code",
   "execution_count": 27,
   "id": "945c3ccf",
   "metadata": {},
   "outputs": [
    {
     "name": "stdout",
     "output_type": "stream",
     "text": [
      "2\n",
      "4\n",
      "6\n",
      "8\n",
      "10\n",
      "12\n",
      "14\n",
      "16\n"
     ]
    }
   ],
   "source": [
    "# Print even values less than or equal to 16 using continue\n",
    "count = 0\n",
    "while count <= 16:\n",
    "    count += 1\n",
    "    if count % 2 != 0:\n",
    "        continue\n",
    "    print(count)"
   ]
  },
  {
   "cell_type": "markdown",
   "id": "9dd84306",
   "metadata": {},
   "source": [
    "# Functions work"
   ]
  },
  {
   "cell_type": "code",
   "execution_count": 28,
   "id": "1dac0578",
   "metadata": {},
   "outputs": [
    {
     "name": "stdout",
     "output_type": "stream",
     "text": [
      "The average is: 8.333333333333334\n",
      "The sum is: 15\n",
      "The solutions are: 4.0 and -1.0\n"
     ]
    }
   ],
   "source": [
    "# Function to print the average of three numbers\n",
    "def average_of_three(a, b, c):\n",
    "    average = (a + b + c) / 3\n",
    "    print(\"The average is:\", average)\n",
    "\n",
    "# Function to print the sum of five numbers\n",
    "def sum_of_five(a, b, c, d, e):\n",
    "    total = a + b + c + d + e\n",
    "    print(\"The sum is:\", total)\n",
    "\n",
    "# Function to solve a quadratic equation\n",
    "def solve_quadratic(a, b, c):\n",
    "    # Calculate the discriminant\n",
    "    discriminant = b**2 - 4*a*c\n",
    "\n",
    "    # Calculate solutions\n",
    "    if discriminant > 0:\n",
    "        root1 = (-b + (discriminant ** 0.5)) / (2 * a)\n",
    "        root2 = (-b - (discriminant ** 0.5)) / (2 * a)\n",
    "        print(\"The solutions are:\", root1, \"and\", root2)\n",
    "    elif discriminant == 0:\n",
    "        root = -b / (2 * a)\n",
    "        print(\"The solution is:\", root)\n",
    "    else:\n",
    "        real_part = -b / (2 * a)\n",
    "        imaginary_part = ((-discriminant) ** 0.5) / (2 * a)\n",
    "        print(\"The solutions are complex:\", real_part, \"+\", imaginary_part, \"i and\", real_part, \"-\", imaginary_part, \"i\")\n",
    "\n",
    "# Example usage\n",
    "average_of_three(5, 8, 12)\n",
    "sum_of_five(1, 2, 3, 4, 5)\n",
    "solve_quadratic(1, -3, -4)\n"
   ]
  },
  {
   "cell_type": "markdown",
   "id": "199844ac",
   "metadata": {},
   "source": [
    "# Extra-activities:\n"
   ]
  },
  {
   "cell_type": "markdown",
   "id": "387f60d4",
   "metadata": {},
   "source": [
    "# Taking User Inputs"
   ]
  },
  {
   "cell_type": "code",
   "execution_count": 31,
   "id": "30eab7ba",
   "metadata": {},
   "outputs": [
    {
     "name": "stdout",
     "output_type": "stream",
     "text": [
      "Enter your name: chaiti\n",
      "Enter your year of birth: 2002\n",
      "Hello, chaiti! Your age is 21 years.\n"
     ]
    }
   ],
   "source": [
    "# Taking a string input for name\n",
    "name = input(\"Enter your name: \")\n",
    "\n",
    "# Taking an integer input for Date of Birth (DoB)\n",
    "dob = int(input(\"Enter your year of birth: \"))\n",
    "\n",
    "# Calculating age assuming the current year is 2023\n",
    "current_year = 2023\n",
    "age = current_year - dob\n",
    "\n",
    "# Greeting the user\n",
    "print(f\"Hello, {name}! Your age is {age} years.\")\n"
   ]
  },
  {
   "cell_type": "markdown",
   "id": "9c4daf60",
   "metadata": {},
   "source": [
    "# Here are functions for the specified formulas"
   ]
  },
  {
   "cell_type": "code",
   "execution_count": 32,
   "id": "218c0265",
   "metadata": {},
   "outputs": [
    {
     "name": "stdout",
     "output_type": "stream",
     "text": [
      "Enter the base of the triangle: 20\n",
      "Enter the height of the triangle: 15\n",
      "Area of the triangle: 150.0\n",
      "Enter the radius of the circle: 2.16\n",
      "Area of the circle: 14.65741468458854\n",
      "Enter the radius of the cylinder: 3.1455\n",
      "Enter the height of the cylinder: 5.2\n",
      "Volume of the cylinder: 161.6339533679868\n",
      "Circumference of Earth: 40030.173592041145 kilometers\n"
     ]
    }
   ],
   "source": [
    "import math\n",
    "\n",
    "# Function to calculate the area of a triangle\n",
    "def area_of_triangle(base, height):\n",
    "    return 0.5 * base * height\n",
    "\n",
    "# Function to calculate the area of a circle\n",
    "def area_of_circle(radius):\n",
    "    return math.pi * (radius ** 2)\n",
    "\n",
    "# Function to calculate the volume of a cylinder\n",
    "def volume_of_cylinder(radius, height):\n",
    "    return math.pi * (radius ** 2) * height\n",
    "\n",
    "# Function to calculate the circumference of Earth using mean radius\n",
    "def circumference_of_earth():\n",
    "    mean_radius_earth = 6371.0  # in kilometers\n",
    "    return 2 * math.pi * mean_radius_earth\n",
    "\n",
    "# Example usage of the functions\n",
    "base = float(input(\"Enter the base of the triangle: \"))\n",
    "height = float(input(\"Enter the height of the triangle: \"))\n",
    "print(\"Area of the triangle:\", area_of_triangle(base, height))\n",
    "\n",
    "radius_circle = float(input(\"Enter the radius of the circle: \"))\n",
    "print(\"Area of the circle:\", area_of_circle(radius_circle))\n",
    "\n",
    "radius_cylinder = float(input(\"Enter the radius of the cylinder: \"))\n",
    "height_cylinder = float(input(\"Enter the height of the cylinder: \"))\n",
    "print(\"Volume of the cylinder:\", volume_of_cylinder(radius_cylinder, height_cylinder))\n",
    "\n",
    "print(\"Circumference of Earth:\", circumference_of_earth(), \"kilometers\")\n"
   ]
  },
  {
   "cell_type": "code",
   "execution_count": null,
   "id": "3fc27a63",
   "metadata": {},
   "outputs": [],
   "source": []
  }
 ],
 "metadata": {
  "kernelspec": {
   "display_name": "Python 3 (ipykernel)",
   "language": "python",
   "name": "python3"
  },
  "language_info": {
   "codemirror_mode": {
    "name": "ipython",
    "version": 3
   },
   "file_extension": ".py",
   "mimetype": "text/x-python",
   "name": "python",
   "nbconvert_exporter": "python",
   "pygments_lexer": "ipython3",
   "version": "3.11.5"
  }
 },
 "nbformat": 4,
 "nbformat_minor": 5
}
