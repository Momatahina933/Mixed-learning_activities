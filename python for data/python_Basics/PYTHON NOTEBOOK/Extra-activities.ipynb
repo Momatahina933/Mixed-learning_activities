{
 "cells": [
  {
   "cell_type": "markdown",
   "id": "9ae326a2",
   "metadata": {},
   "source": [
    "# variable experiments:"
   ]
  },
  {
   "cell_type": "code",
   "execution_count": 5,
   "id": "59e24378",
   "metadata": {},
   "outputs": [
    {
     "name": "stdout",
     "output_type": "stream",
     "text": [
      "10 Hello True 3.14 CAHITI\n"
     ]
    }
   ],
   "source": [
    "# Variables of mixed types\n",
    "num_var = 10\n",
    "another_var = \"Hello\"\n",
    "bool_var_2 = True\n",
    "fnum_var_3 = 3.14\n",
    "\n",
    "# Assigning a variable name as a value to another new variable\n",
    "var_name = \"CAHITI\"\n",
    "new_var = var_name\n",
    "\n",
    "# Print multiple variables using a single print statement\n",
    "print(num_var, another_var, bool_var_2, fnum_var_3, new_var)\n"
   ]
  },
  {
   "cell_type": "markdown",
   "id": "bc307d59",
   "metadata": {},
   "source": [
    "# arithmetic operator experiments:"
   ]
  },
  {
   "cell_type": "code",
   "execution_count": 6,
   "id": "d020dd6d",
   "metadata": {},
   "outputs": [
    {
     "name": "stdout",
     "output_type": "stream",
     "text": [
      "15\n",
      "3.0\n",
      "2\n",
      "6\n",
      "6\n"
     ]
    }
   ],
   "source": [
    "# Arithmetic operator examples\n",
    "# *= (Multiplication Assignment)\n",
    "value = 5\n",
    "value *= 3\n",
    "print(value)  \n",
    "\n",
    "# /= (Division Assignment)\n",
    "value = 15\n",
    "value /= 5\n",
    "print(value)  \n",
    "\n",
    "# %= (Modulus Assignment)\n",
    "value = 17\n",
    "value %= 5\n",
    "print(value)  \n",
    "\n",
    "# -= (Subtraction Assignment)\n",
    "value = 10\n",
    "value -= 4\n",
    "print(value) \n",
    "\n",
    "# //= (Floor Division Assignment)\n",
    "value = 20\n",
    "value //= 3\n",
    "print(value)  \n"
   ]
  },
  {
   "cell_type": "markdown",
   "id": "d1f17bb8",
   "metadata": {},
   "source": [
    "# the decision-making statement using % and = operators:"
   ]
  },
  {
   "cell_type": "code",
   "execution_count": 7,
   "id": "b97d9a7b",
   "metadata": {},
   "outputs": [
    {
     "name": "stdout",
     "output_type": "stream",
     "text": [
      "You got an odd number\n"
     ]
    }
   ],
   "source": [
    "number = 17\n",
    "\n",
    "if number % 2 == 0:\n",
    "    result = \"even\"\n",
    "else:\n",
    "    result = \"odd\"\n",
    "\n",
    "print(\"You got an {} number\".format(result))\n"
   ]
  },
  {
   "cell_type": "markdown",
   "id": "1887d256",
   "metadata": {},
   "source": [
    "# checking if a year is a leap year using logical operators:"
   ]
  },
  {
   "cell_type": "code",
   "execution_count": 8,
   "id": "610b2902",
   "metadata": {},
   "outputs": [
    {
     "name": "stdout",
     "output_type": "stream",
     "text": [
      "2024 is a leap year\n"
     ]
    }
   ],
   "source": [
    "# Checking if a year is a leap year using logical operators\n",
    "def is_leap_year(year):\n",
    "    if (year % 4 == 0 and year % 100 != 0) or (year % 400 == 0):\n",
    "        return True\n",
    "    else:\n",
    "        return False\n",
    "\n",
    "# Example usage\n",
    "year_to_check = 2024\n",
    "if is_leap_year(year_to_check):\n",
    "    print(f\"{year_to_check} is a leap year\")\n",
    "else:\n",
    "    print(f\"{year_to_check} is not a leap year\")\n"
   ]
  },
  {
   "cell_type": "code",
   "execution_count": 9,
   "id": "5689cbb0",
   "metadata": {},
   "outputs": [
    {
     "name": "stdout",
     "output_type": "stream",
     "text": [
      "2021 is not a leap year\n"
     ]
    }
   ],
   "source": [
    "# Checking if a year is a leap year using logical operators\n",
    "def is_leap_year(year):\n",
    "    if (year % 4 == 0 and year % 100 != 0) or (year % 400 == 0):\n",
    "        return True\n",
    "    else:\n",
    "        return False\n",
    "\n",
    "# Example usage\n",
    "year_to_check = 2021\n",
    "if is_leap_year(year_to_check):\n",
    "    print(f\"{year_to_check} is a leap year\")\n",
    "else:\n",
    "    print(f\"{year_to_check} is not a leap year\")\n"
   ]
  },
  {
   "cell_type": "code",
   "execution_count": null,
   "id": "2c7987c3",
   "metadata": {},
   "outputs": [],
   "source": []
  }
 ],
 "metadata": {
  "kernelspec": {
   "display_name": "Python 3 (ipykernel)",
   "language": "python",
   "name": "python3"
  },
  "language_info": {
   "codemirror_mode": {
    "name": "ipython",
    "version": 3
   },
   "file_extension": ".py",
   "mimetype": "text/x-python",
   "name": "python",
   "nbconvert_exporter": "python",
   "pygments_lexer": "ipython3",
   "version": "3.11.5"
  }
 },
 "nbformat": 4,
 "nbformat_minor": 5
}
