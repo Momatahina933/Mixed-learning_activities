{
 "cells": [
  {
   "cell_type": "markdown",
   "id": "f7059e7e",
   "metadata": {},
   "source": [
    "# Variables:"
   ]
  },
  {
   "cell_type": "code",
   "execution_count": 31,
   "id": "9d845288",
   "metadata": {},
   "outputs": [],
   "source": [
    "myname=\"Momatahina Akter Chaiti\""
   ]
  },
  {
   "cell_type": "code",
   "execution_count": 32,
   "id": "17c5e106",
   "metadata": {},
   "outputs": [],
   "source": [
    "year=19"
   ]
  },
  {
   "cell_type": "code",
   "execution_count": 33,
   "id": "f3633125",
   "metadata": {},
   "outputs": [],
   "source": [
    "pi= 3.14"
   ]
  },
  {
   "cell_type": "code",
   "execution_count": 34,
   "id": "b8babc9e",
   "metadata": {},
   "outputs": [],
   "source": [
    "bool_ = True"
   ]
  },
  {
   "cell_type": "code",
   "execution_count": 35,
   "id": "20be9d33",
   "metadata": {},
   "outputs": [],
   "source": [
    "# list example\n",
    "numbers = [1, 2, 3, 4, 5]"
   ]
  },
  {
   "cell_type": "code",
   "execution_count": 36,
   "id": "edc6392b",
   "metadata": {},
   "outputs": [],
   "source": [
    "# tuple example \n",
    "fruits = ('apple', 'banana', 'orange', 'grape')"
   ]
  },
  {
   "cell_type": "code",
   "execution_count": 37,
   "id": "2a707bea",
   "metadata": {},
   "outputs": [],
   "source": [
    "# Creating a dictionary of a person's information\n",
    "person = {\n",
    "    'name': 'Momatahina Akter Chaiti',\n",
    "    'age': 19,\n",
    "    'city': 'London',\n",
    "    'email': 'momatahinaakter@gmail.com'\n",
    "}"
   ]
  },
  {
   "cell_type": "code",
   "execution_count": 38,
   "id": "62597728",
   "metadata": {},
   "outputs": [
    {
     "name": "stdout",
     "output_type": "stream",
     "text": [
      "Momatahina Akter Chaiti\n"
     ]
    }
   ],
   "source": [
    "print(myname)"
   ]
  },
  {
   "cell_type": "code",
   "execution_count": 39,
   "id": "31152ff8",
   "metadata": {},
   "outputs": [
    {
     "name": "stdout",
     "output_type": "stream",
     "text": [
      "19\n"
     ]
    }
   ],
   "source": [
    "print(year)"
   ]
  },
  {
   "cell_type": "code",
   "execution_count": 40,
   "id": "f1f32f09",
   "metadata": {},
   "outputs": [
    {
     "name": "stdout",
     "output_type": "stream",
     "text": [
      "3.14\n"
     ]
    }
   ],
   "source": [
    "print(pi)"
   ]
  },
  {
   "cell_type": "code",
   "execution_count": 41,
   "id": "78656071",
   "metadata": {},
   "outputs": [
    {
     "name": "stdout",
     "output_type": "stream",
     "text": [
      "True\n"
     ]
    }
   ],
   "source": [
    "print(bool_)"
   ]
  },
  {
   "cell_type": "code",
   "execution_count": 42,
   "id": "161b5125",
   "metadata": {},
   "outputs": [
    {
     "name": "stdout",
     "output_type": "stream",
     "text": [
      "[1, 2, 3, 4, 5]\n",
      "3\n"
     ]
    }
   ],
   "source": [
    "print(numbers)\n",
    "\n",
    "# the index value 2\n",
    "print (numbers[2])"
   ]
  },
  {
   "cell_type": "code",
   "execution_count": 43,
   "id": "c6bae9a4",
   "metadata": {},
   "outputs": [
    {
     "name": "stdout",
     "output_type": "stream",
     "text": [
      "('apple', 'banana', 'orange', 'grape')\n",
      "grape\n"
     ]
    }
   ],
   "source": [
    "print(fruits)\n",
    "# the index value 3\n",
    "print(fruits[3])"
   ]
  },
  {
   "cell_type": "code",
   "execution_count": 44,
   "id": "ce2a0a2b",
   "metadata": {},
   "outputs": [
    {
     "name": "stdout",
     "output_type": "stream",
     "text": [
      "{'name': 'Momatahina Akter Chaiti', 'age': 19, 'city': 'London', 'email': 'momatahinaakter@gmail.com'}\n",
      "Momatahina Akter Chaiti\n",
      "19\n",
      "momatahinaakter@gmail.com\n"
     ]
    }
   ],
   "source": [
    "print(person)\n",
    "\n",
    "# the key value of name\n",
    "print(person['name'])\n",
    "\n",
    "# the key value of age\n",
    "print(person['age'])\n",
    "\n",
    "# the key value of email\n",
    "print(person['email'])"
   ]
  },
  {
   "cell_type": "markdown",
   "id": "982ef8c1",
   "metadata": {},
   "source": [
    "# Operators:"
   ]
  },
  {
   "cell_type": "code",
   "execution_count": 45,
   "id": "b1ea1e2f",
   "metadata": {},
   "outputs": [
    {
     "name": "stdout",
     "output_type": "stream",
     "text": [
      "-5 7 10 2.5 1 2\n"
     ]
    }
   ],
   "source": [
    "# Define variables x, y, and z\n",
    "x = 5\n",
    "y = 2\n",
    "z = 3\n",
    "\n",
    "# Perform the operations mentioned\n",
    "result1 = -x\n",
    "result2 = x + y\n",
    "result3 = x * y\n",
    "result4 = x / y\n",
    "result5 = x % y\n",
    "result6 = x // y\n",
    "\n",
    "# Print the results\n",
    "print(result1, result2, result3, result4, result5, result6)\n"
   ]
  },
  {
   "cell_type": "markdown",
   "id": "916aa099",
   "metadata": {},
   "source": [
    "# The calculation :"
   ]
  },
  {
   "cell_type": "code",
   "execution_count": 46,
   "id": "219e131d",
   "metadata": {},
   "outputs": [
    {
     "name": "stdout",
     "output_type": "stream",
     "text": [
      "Earth's mean radius in miles: 3958.754641\n",
      "Altitude in meters: 12192.0\n"
     ]
    }
   ],
   "source": [
    "earth_radius_km = 6371\n",
    "altitude_feet = 40000\n",
    "\n",
    "# Conversion from kilometers to miles using operators and parentheses\n",
    "earth_radius_miles = earth_radius_km * 0.621371\n",
    "print(\"Earth's mean radius in miles:\", earth_radius_miles)\n",
    "\n",
    "# Conversion from feet to meters using operators and parentheses\n",
    "altitude_meters = altitude_feet * 0.3048\n",
    "print(\"Altitude in meters:\", altitude_meters)\n"
   ]
  },
  {
   "cell_type": "markdown",
   "id": "bf1da420",
   "metadata": {},
   "source": [
    "# Decision Making :\n"
   ]
  },
  {
   "cell_type": "markdown",
   "id": "698b3e7c",
   "metadata": {},
   "source": [
    "# Decision Making in Python: IF statement :"
   ]
  },
  {
   "cell_type": "code",
   "execution_count": 47,
   "id": "38908ec5",
   "metadata": {},
   "outputs": [
    {
     "name": "stdout",
     "output_type": "stream",
     "text": [
      "Value of expression is 100\n",
      "Goodbye!\n"
     ]
    }
   ],
   "source": [
    "# Single-line if statement example\n",
    "num = 100  # Change this value to see different outcomes\n",
    "\n",
    "if num==100:\n",
    "    print(\"Value of expression is 100\");\n",
    "    \n",
    "print(\"Goodbye!\")\n"
   ]
  },
  {
   "cell_type": "markdown",
   "id": "51846fe8",
   "metadata": {},
   "source": [
    "# Decision Making: IF...ELSE :"
   ]
  },
  {
   "cell_type": "code",
   "execution_count": 48,
   "id": "848c0603",
   "metadata": {},
   "outputs": [
    {
     "name": "stdout",
     "output_type": "stream",
     "text": [
      "Got a True expression Value\n",
      "100\n"
     ]
    }
   ],
   "source": [
    "# Example of if...else statement\n",
    "num = 100  # Change this value to see different outcomes\n",
    "\n",
    "if num == 100:\n",
    "    print(\"Got a True expression Value\")\n",
    "    print(num)\n",
    "else:\n",
    "    print(\"Got a False expression Value\")\n",
    "    print(num)\n"
   ]
  },
  {
   "cell_type": "code",
   "execution_count": 49,
   "id": "29f6bba6",
   "metadata": {},
   "outputs": [
    {
     "name": "stdout",
     "output_type": "stream",
     "text": [
      "Got a False expression Value\n",
      "90\n"
     ]
    }
   ],
   "source": [
    "# Change this value 90 to see different outcomes\n",
    "num = 90  \n",
    "\n",
    "if num == 100:\n",
    "    print(\"Got a True expression Value\")\n",
    "    print(num)\n",
    "else:\n",
    "    print(\"Got a False expression Value\")\n",
    "    print(num)\n"
   ]
  },
  {
   "cell_type": "markdown",
   "id": "6670b121",
   "metadata": {},
   "source": [
    "# Decision Making: The elif Statement :"
   ]
  },
  {
   "cell_type": "code",
   "execution_count": 50,
   "id": "0e165223",
   "metadata": {},
   "outputs": [
    {
     "name": "stdout",
     "output_type": "stream",
     "text": [
      "4 - Got a False expression value\n",
      "100\n",
      "Good bye!\n"
     ]
    }
   ],
   "source": [
    "# Example of if...elif...else statement\n",
    "num = 100\n",
    "\n",
    "if num > 200:\n",
    "    print(\"1 - Got a True expression value\")\n",
    "    print(num)\n",
    "elif num > 150:\n",
    "    print(\"2 - Got a True expression value\")\n",
    "    print(num)\n",
    "elif num > 100:\n",
    "    print(\"3 - Got a True expression value\")\n",
    "    print(num)\n",
    "else:\n",
    "    print(\"4 - Got a False expression value\")\n",
    "    print(num)\n",
    "\n",
    "print(\"Good bye!\")\n"
   ]
  },
  {
   "cell_type": "code",
   "execution_count": 51,
   "id": "499e2397",
   "metadata": {},
   "outputs": [
    {
     "name": "stdout",
     "output_type": "stream",
     "text": [
      "1 - Got a True expression value\n",
      "300\n",
      "Good bye!\n"
     ]
    }
   ],
   "source": [
    "# change num value\n",
    "num = 300\n",
    "\n",
    "if num > 200:\n",
    "    print(\"1 - Got a True expression value\")\n",
    "    print(num)\n",
    "elif num > 150:\n",
    "    print(\"2 - Got a True expression value\")\n",
    "    print(num)\n",
    "elif num > 100:\n",
    "    print(\"3 - Got a True expression value\")\n",
    "    print(num)\n",
    "else:\n",
    "    print(\"4 - Got a False expression value\")\n",
    "    print(num)\n",
    "\n",
    "print(\"Good bye!\")\n"
   ]
  },
  {
   "cell_type": "code",
   "execution_count": 52,
   "id": "94e52d26",
   "metadata": {},
   "outputs": [
    {
     "name": "stdout",
     "output_type": "stream",
     "text": [
      "2 - Got a True expression value\n",
      "180\n",
      "Good bye!\n"
     ]
    }
   ],
   "source": [
    "# change num value\n",
    "num = 180\n",
    "\n",
    "if num > 200:\n",
    "    print(\"1 - Got a True expression value\")\n",
    "    print(num)\n",
    "elif num > 150:\n",
    "    print(\"2 - Got a True expression value\")\n",
    "    print(num)\n",
    "elif num > 100:\n",
    "    print(\"3 - Got a True expression value\")\n",
    "    print(num)\n",
    "else:\n",
    "    print(\"4 - Got a False expression value\")\n",
    "    print(num)\n",
    "\n",
    "print(\"Good bye!\")\n"
   ]
  },
  {
   "cell_type": "code",
   "execution_count": 53,
   "id": "735a3738",
   "metadata": {},
   "outputs": [
    {
     "name": "stdout",
     "output_type": "stream",
     "text": [
      "4 - Got a False expression value\n",
      "50\n",
      "Good bye!\n"
     ]
    }
   ],
   "source": [
    "# change num value\n",
    "num = 50\n",
    "\n",
    "if num > 200:\n",
    "    print(\"1 - Got a True expression value\")\n",
    "    print(num)\n",
    "elif num > 150:\n",
    "    print(\"2 - Got a True expression value\")\n",
    "    print(num)\n",
    "elif num > 100:\n",
    "    print(\"3 - Got a True expression value\")\n",
    "    print(num)\n",
    "else:\n",
    "    print(\"4 - Got a False expression value\")\n",
    "    print(num)\n",
    "\n",
    "print(\"Good bye!\")\n"
   ]
  }
 ],
 "metadata": {
  "kernelspec": {
   "display_name": "Python 3 (ipykernel)",
   "language": "python",
   "name": "python3"
  },
  "language_info": {
   "codemirror_mode": {
    "name": "ipython",
    "version": 3
   },
   "file_extension": ".py",
   "mimetype": "text/x-python",
   "name": "python",
   "nbconvert_exporter": "python",
   "pygments_lexer": "ipython3",
   "version": "3.11.5"
  }
 },
 "nbformat": 4,
 "nbformat_minor": 5
}
